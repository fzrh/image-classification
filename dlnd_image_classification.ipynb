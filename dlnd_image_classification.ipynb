{
 "cells": [
  {
   "cell_type": "markdown",
   "metadata": {
    "collapsed": true
   },
   "source": [
    "# Image Classification\n",
    "In this project, you'll classify images from the [CIFAR-10 dataset](https://www.cs.toronto.edu/~kriz/cifar.html).  The dataset consists of airplanes, dogs, cats, and other objects. You'll preprocess the images, then train a convolutional neural network on all the samples. The images need to be normalized and the labels need to be one-hot encoded.  You'll get to apply what you learned and build a convolutional, max pooling, dropout, and fully connected layers.  At the end, you'll get to see your neural network's predictions on the sample images.\n",
    "## Get the Data\n",
    "Run the following cell to download the [CIFAR-10 dataset for python](https://www.cs.toronto.edu/~kriz/cifar-10-python.tar.gz)."
   ]
  },
  {
   "cell_type": "code",
   "execution_count": 4,
   "metadata": {
    "collapsed": false
   },
   "outputs": [
    {
     "name": "stderr",
     "output_type": "stream",
     "text": [
      "CIFAR-10 Dataset: 171MB [05:45, 493KB/s]                                \n"
     ]
    },
    {
     "name": "stdout",
     "output_type": "stream",
     "text": [
      "All files found!\n"
     ]
    }
   ],
   "source": [
    "\"\"\"\n",
    "DON'T MODIFY ANYTHING IN THIS CELL THAT IS BELOW THIS LINE\n",
    "\"\"\"\n",
    "from urllib.request import urlretrieve\n",
    "from os.path import isfile, isdir\n",
    "from tqdm import tqdm\n",
    "import problem_unittests as tests\n",
    "import tarfile\n",
    "\n",
    "cifar10_dataset_folder_path = 'cifar-10-batches-py'\n",
    "\n",
    "# Use Floyd's cifar-10 dataset if present\n",
    "floyd_cifar10_location = '/input/cifar-10/python.tar.gz'\n",
    "if isfile(floyd_cifar10_location):\n",
    "    tar_gz_path = floyd_cifar10_location\n",
    "else:\n",
    "    tar_gz_path = 'cifar-10-python.tar.gz'\n",
    "\n",
    "class DLProgress(tqdm):\n",
    "    last_block = 0\n",
    "\n",
    "    def hook(self, block_num=1, block_size=1, total_size=None):\n",
    "        self.total = total_size\n",
    "        self.update((block_num - self.last_block) * block_size)\n",
    "        self.last_block = block_num\n",
    "\n",
    "if not isfile(tar_gz_path):\n",
    "    with DLProgress(unit='B', unit_scale=True, miniters=1, desc='CIFAR-10 Dataset') as pbar:\n",
    "        urlretrieve(\n",
    "            'https://www.cs.toronto.edu/~kriz/cifar-10-python.tar.gz',\n",
    "            tar_gz_path,\n",
    "            pbar.hook)\n",
    "\n",
    "if not isdir(cifar10_dataset_folder_path):\n",
    "    with tarfile.open(tar_gz_path) as tar:\n",
    "        tar.extractall()\n",
    "        tar.close()\n",
    "\n",
    "\n",
    "tests.test_folder_path(cifar10_dataset_folder_path)"
   ]
  },
  {
   "cell_type": "markdown",
   "metadata": {},
   "source": [
    "## Explore the Data\n",
    "The dataset is broken into batches to prevent your machine from running out of memory.  The CIFAR-10 dataset consists of 5 batches, named `data_batch_1`, `data_batch_2`, etc.. Each batch contains the labels and images that are one of the following:\n",
    "* airplane\n",
    "* automobile\n",
    "* bird\n",
    "* cat\n",
    "* deer\n",
    "* dog\n",
    "* frog\n",
    "* horse\n",
    "* ship\n",
    "* truck\n",
    "\n",
    "Understanding a dataset is part of making predictions on the data.  Play around with the code cell below by changing the `batch_id` and `sample_id`. The `batch_id` is the id for a batch (1-5). The `sample_id` is the id for a image and label pair in the batch.\n",
    "\n",
    "Ask yourself \"What are all possible labels?\", \"What is the range of values for the image data?\", \"Are the labels in order or random?\".  Answers to questions like these will help you preprocess the data and end up with better predictions."
   ]
  },
  {
   "cell_type": "code",
   "execution_count": 8,
   "metadata": {
    "collapsed": false
   },
   "outputs": [
    {
     "name": "stdout",
     "output_type": "stream",
     "text": [
      "README.md                        dlnd_image_classification.ipynb\r\n",
      "\u001b[34m__pycache__\u001b[m\u001b[m/                     floyd_requirements.txt\r\n",
      "\u001b[34mcifar-10-batches-py\u001b[m\u001b[m/             helper.py\r\n",
      "cifar-10-python.tar.gz           problem_unittests.py\r\n"
     ]
    }
   ],
   "source": [
    "ls"
   ]
  },
  {
   "cell_type": "code",
   "execution_count": 10,
   "metadata": {
    "collapsed": false
   },
   "outputs": [
    {
     "name": "stdout",
     "output_type": "stream",
     "text": [
      "\n",
      "Stats of batch 1:\n",
      "Samples: 10000\n",
      "Label Counts: {0: 1005, 1: 974, 2: 1032, 3: 1016, 4: 999, 5: 937, 6: 1030, 7: 1001, 8: 1025, 9: 981}\n",
      "First 20 Labels: [6, 9, 9, 4, 1, 1, 2, 7, 8, 3, 4, 7, 7, 2, 9, 9, 9, 3, 2, 6]\n",
      "\n",
      "Example of Image 50:\n",
      "Image - Min Value: 8 Max Value: 243\n",
      "Image - Shape: (32, 32, 3)\n",
      "Label - Label Id: 9 Name: truck\n"
     ]
    },
    {
     "data": {
      "image/png": "[encoded data removed]",
      "text/plain": [
       "<matplotlib.figure.Figure at 0x10dfbd390>"
      ]
     },
     "metadata": {
      "image/png": {
       "height": 250,
       "width": 253
      }
     },
     "output_type": "display_data"
    }
   ],
   "source": [
    "%matplotlib inline\n",
    "%config InlineBackend.figure_format = 'retina'\n",
    "\n",
    "import helper\n",
    "import numpy as np\n",
    "\n",
    "# Explore the dataset\n",
    "batch_id = 1\n",
    "sample_id = 50\n",
    "helper.display_stats(cifar10_dataset_folder_path, batch_id, sample_id)"
   ]
  },
  {
   "cell_type": "markdown",
   "metadata": {},
   "source": [
    "## Implement Preprocess Functions\n",
    "### Normalize\n",
    "In the cell below, implement the `normalize` function to take in image data, `x`, and return it as a normalized Numpy array. The values should be in the range of 0 to 1, inclusive.  The return object should be the same shape as `x`."
   ]
  },
  {
   "cell_type": "code",
   "execution_count": 11,
   "metadata": {
    "collapsed": false
   },
   "outputs": [
    {
     "name": "stdout",
     "output_type": "stream",
     "text": [
      "Tests Passed\n"
     ]
    }
   ],
   "source": [
    "def normalize(x):\n",
    "    \"\"\"\n",
    "    Normalize a list of sample image data in the range of 0 to 1\n",
    "    : x: List of image data.  The image shape is (32, 32, 3)\n",
    "    : return: Numpy array of normalize data\n",
    "    \"\"\"\n",
    "    # TODO: Implement Function\n",
    "    return x / 255\n",
    "\n",
    "\n",
    "\"\"\"\n",
    "DON'T MODIFY ANYTHING IN THIS CELL THAT IS BELOW THIS LINE\n",
    "\"\"\"\n",
    "tests.test_normalize(normalize)"
   ]
  },
  {
   "cell_type": "markdown",
   "metadata": {},
   "source": [
    "### One-hot encode\n",
    "Just like the previous code cell, you'll be implementing a function for preprocessing.  This time, you'll implement the `one_hot_encode` function. The input, `x`, are a list of labels.  Implement the function to return the list of labels as One-Hot encoded Numpy array.  The possible values for labels are 0 to 9. The one-hot encoding function should return the same encoding for each value between each call to `one_hot_encode`.  Make sure to save the map of encodings outside the function.\n",
    "\n",
    "Hint: Don't reinvent the wheel."
   ]
  },
  {
   "cell_type": "code",
   "execution_count": 12,
   "metadata": {
    "collapsed": false
   },
   "outputs": [
    {
     "name": "stdout",
     "output_type": "stream",
     "text": [
      "Tests Passed\n"
     ]
    }
   ],
   "source": [
    "def one_hot_encode(x):\n",
    "    \"\"\"\n",
    "    One hot encode a list of sample labels. Return a one-hot encoded vector for each label.\n",
    "    : x: List of sample Labels\n",
    "    : return: Numpy array of one-hot encoded labels\n",
    "    \"\"\"\n",
    "    # TODO: Implement Function\n",
    "    return np.eye(10)[x]\n",
    "\n",
    "\n",
    "\"\"\"\n",
    "DON'T MODIFY ANYTHING IN THIS CELL THAT IS BELOW THIS LINE\n",
    "\"\"\"\n",
    "tests.test_one_hot_encode(one_hot_encode)"
   ]
  },
  {
   "cell_type": "markdown",
   "metadata": {},
   "source": [
    "### Randomize Data\n",
    "As you saw from exploring the data above, the order of the samples are randomized.  It doesn't hurt to randomize it again, but you don't need to for this dataset."
   ]
  },
  {
   "cell_type": "markdown",
   "metadata": {},
   "source": [
    "## Preprocess all the data and save it\n",
    "Running the code cell below will preprocess all the CIFAR-10 data and save it to file. The code below also uses 10% of the training data for validation."
   ]
  },
  {
   "cell_type": "code",
   "execution_count": 13,
   "metadata": {
    "collapsed": false
   },
   "outputs": [],
   "source": [
    "\"\"\"\n",
    "DON'T MODIFY ANYTHING IN THIS CELL\n",
    "\"\"\"\n",
    "# Preprocess Training, Validation, and Testing Data\n",
    "helper.preprocess_and_save_data(cifar10_dataset_folder_path, normalize, one_hot_encode)"
   ]
  },
  {
   "cell_type": "markdown",
   "metadata": {},
   "source": [
    "# Check Point\n",
    "This is your first checkpoint.  If you ever decide to come back to this notebook or have to restart the notebook, you can start from here.  The preprocessed data has been saved to disk."
   ]
  },
  {
   "cell_type": "code",
   "execution_count": 14,
   "metadata": {
    "collapsed": true
   },
   "outputs": [],
   "source": [
    "\"\"\"\n",
    "DON'T MODIFY ANYTHING IN THIS CELL\n",
    "\"\"\"\n",
    "import pickle\n",
    "import problem_unittests as tests\n",
    "import helper\n",
    "\n",
    "# Load the Preprocessed Validation data\n",
    "valid_features, valid_labels = pickle.load(open('preprocess_validation.p', mode='rb'))"
   ]
  },
  {
   "cell_type": "markdown",
   "metadata": {},
   "source": [
    "## Build the network\n",
    "For the neural network, you'll build each layer into a function.  Most of the code you've seen has been outside of functions. To test your code more thoroughly, we require that you put each layer in a function.  This allows us to give you better feedback and test for simple mistakes using our unittests before you submit your project.\n",
    "\n",
    ">**Note:** If you're finding it hard to dedicate enough time for this course each week, we've provided a small shortcut to this part of the project. In the next couple of problems, you'll have the option to use classes from the [TensorFlow Layers](https://www.tensorflow.org/api_docs/python/tf/layers) or [TensorFlow Layers (contrib)](https://www.tensorflow.org/api_guides/python/contrib.layers) packages to build each layer, except the layers you build in the \"Convolutional and Max Pooling Layer\" section.  TF Layers is similar to Keras's and TFLearn's abstraction to layers, so it's easy to pickup.\n",
    "\n",
    ">However, if you would like to get the most out of this course, try to solve all the problems _without_ using anything from the TF Layers packages. You **can** still use classes from other packages that happen to have the same name as ones you find in TF Layers! For example, instead of using the TF Layers version of the `conv2d` class, [tf.layers.conv2d](https://www.tensorflow.org/api_docs/python/tf/layers/conv2d), you would want to use the TF Neural Network version of `conv2d`, [tf.nn.conv2d](https://www.tensorflow.org/api_docs/python/tf/nn/conv2d). \n",
    "\n",
    "Let's begin!\n",
    "\n",
    "### Input\n",
    "The neural network needs to read the image data, one-hot encoded labels, and dropout keep probability. Implement the following functions\n",
    "* Implement `neural_net_image_input`\n",
    " * Return a [TF Placeholder](https://www.tensorflow.org/api_docs/python/tf/placeholder)\n",
    " * Set the shape using `image_shape` with batch size set to `None`.\n",
    " * Name the TensorFlow placeholder \"x\" using the TensorFlow `name` parameter in the [TF Placeholder](https://www.tensorflow.org/api_docs/python/tf/placeholder).\n",
    "* Implement `neural_net_label_input`\n",
    " * Return a [TF Placeholder](https://www.tensorflow.org/api_docs/python/tf/placeholder)\n",
    " * Set the shape using `n_classes` with batch size set to `None`.\n",
    " * Name the TensorFlow placeholder \"y\" using the TensorFlow `name` parameter in the [TF Placeholder](https://www.tensorflow.org/api_docs/python/tf/placeholder).\n",
    "* Implement `neural_net_keep_prob_input`\n",
    " * Return a [TF Placeholder](https://www.tensorflow.org/api_docs/python/tf/placeholder) for dropout keep probability.\n",
    " * Name the TensorFlow placeholder \"keep_prob\" using the TensorFlow `name` parameter in the [TF Placeholder](https://www.tensorflow.org/api_docs/python/tf/placeholder).\n",
    "\n",
    "These names will be used at the end of the project to load your saved model.\n",
    "\n",
    "Note: `None` for shapes in TensorFlow allow for a dynamic size."
   ]
  },
  {
   "cell_type": "code",
   "execution_count": 15,
   "metadata": {
    "collapsed": false
   },
   "outputs": [
    {
     "name": "stdout",
     "output_type": "stream",
     "text": [
      "Image Input Tests Passed.\n",
      "Label Input Tests Passed.\n",
      "Keep Prob Tests Passed.\n"
     ]
    }
   ],
   "source": [
    "import tensorflow as tf\n",
    "\n",
    "def neural_net_image_input(image_shape):\n",
    "    \"\"\"\n",
    "    Return a Tensor for a batch of image input\n",
    "    : image_shape: Shape of the images\n",
    "    : return: Tensor for image input.\n",
    "    \"\"\"\n",
    "    # TODO: Implement Function\n",
    "    return tf.placeholder(tf.float32, [None, image_shape[0],image_shape[1],image_shape[2]], name='x')\n",
    "\n",
    "\n",
    "def neural_net_label_input(n_classes):\n",
    "    \"\"\"\n",
    "    Return a Tensor for a batch of label input\n",
    "    : n_classes: Number of classes\n",
    "    : return: Tensor for label input.\n",
    "    \"\"\"\n",
    "    # TODO: Implement Function\n",
    "    return tf.placeholder(tf.float32, [None, n_classes], name='y')\n",
    "\n",
    "\n",
    "def neural_net_keep_prob_input():\n",
    "    \"\"\"\n",
    "    Return a Tensor for keep probability\n",
    "    : return: Tensor for keep probability.\n",
    "    \"\"\"\n",
    "    # TODO: Implement Function\n",
    "    return tf.placeholder(tf.float32, name='keep_prob')\n",
    "\n",
    "\n",
    "\"\"\"\n",
    "DON'T MODIFY ANYTHING IN THIS CELL THAT IS BELOW THIS LINE\n",
    "\"\"\"\n",
    "tf.reset_default_graph()\n",
    "tests.test_nn_image_inputs(neural_net_image_input)\n",
    "tests.test_nn_label_inputs(neural_net_label_input)\n",
    "tests.test_nn_keep_prob_inputs(neural_net_keep_prob_input)"
   ]
  },
  {
   "cell_type": "markdown",
   "metadata": {},
   "source": [
    "### Convolution and Max Pooling Layer\n",
    "Convolution layers have a lot of success with images. For this code cell, you should implement the function `conv2d_maxpool` to apply convolution then max pooling:\n",
    "* Create the weight and bias using `conv_ksize`, `conv_num_outputs` and the shape of `x_tensor`.\n",
    "* Apply a convolution to `x_tensor` using weight and `conv_strides`.\n",
    " * We recommend you use same padding, but you're welcome to use any padding.\n",
    "* Add bias\n",
    "* Add a nonlinear activation to the convolution.\n",
    "* Apply Max Pooling using `pool_ksize` and `pool_strides`.\n",
    " * We recommend you use same padding, but you're welcome to use any padding.\n",
    "\n",
    "**Note:** You **can't** use [TensorFlow Layers](https://www.tensorflow.org/api_docs/python/tf/layers) or [TensorFlow Layers (contrib)](https://www.tensorflow.org/api_guides/python/contrib.layers) for **this** layer, but you can still use TensorFlow's [Neural Network](https://www.tensorflow.org/api_docs/python/tf/nn) package. You may still use the shortcut option for all the **other** layers."
   ]
  },
  {
   "cell_type": "code",
   "execution_count": 16,
   "metadata": {
    "collapsed": false
   },
   "outputs": [
    {
     "name": "stdout",
     "output_type": "stream",
     "text": [
      "Tests Passed\n"
     ]
    }
   ],
   "source": [
    "def conv2d_maxpool(x_tensor, conv_num_outputs, conv_ksize, conv_strides, pool_ksize, pool_strides):\n",
    "    \"\"\"\n",
    "    Apply convolution then max pooling to x_tensor\n",
    "    :param x_tensor: TensorFlow Tensor\n",
    "    :param conv_num_outputs: Number of outputs for the convolutional layer\n",
    "    :param conv_ksize: kernal size 2-D Tuple for the convolutional layer\n",
    "    :param conv_strides: Stride 2-D Tuple for convolution\n",
    "    :param pool_ksize: kernal size 2-D Tuple for pool\n",
    "    :param pool_strides: Stride 2-D Tuple for pool\n",
    "    : return: A tensor that represents convolution and max pooling of x_tensor\n",
    "    \"\"\"\n",
    "    # TODO: Implement Function\n",
    "    weight = tf.Variable(tf.random_normal([conv_ksize[0],\n",
    "                                           conv_ksize[1],\n",
    "                                           x_tensor.get_shape().as_list()[-1], \n",
    "                                           conv_num_outputs],\n",
    "                                         stddev=0.1))\n",
    "    bias = tf.Variable(tf.zeros(conv_num_outputs, dtype=tf.float32))\n",
    "    conv_layer = tf.nn.conv2d(x_tensor, weight, strides=[1, conv_strides[0], conv_strides[1], 1], padding='SAME')\n",
    "    conv_layer = tf.nn.bias_add(conv_layer, bias)\n",
    "    conv_layer = tf.nn.relu(conv_layer)\n",
    "    conv_layer = tf.nn.max_pool(conv_layer, \n",
    "                                ksize=[1, pool_ksize[0], pool_ksize[1], 1], \n",
    "                                strides=[1, pool_strides[0], pool_strides[1], 1],\n",
    "                                padding='SAME')\n",
    "    return conv_layer\n",
    "\n",
    "\n",
    "\"\"\"\n",
    "DON'T MODIFY ANYTHING IN THIS CELL THAT IS BELOW THIS LINE\n",
    "\"\"\"\n",
    "tests.test_con_pool(conv2d_maxpool)"
   ]
  },
  {
   "cell_type": "markdown",
   "metadata": {},
   "source": [
    "### Flatten Layer\n",
    "Implement the `flatten` function to change the dimension of `x_tensor` from a 4-D tensor to a 2-D tensor.  The output should be the shape (*Batch Size*, *Flattened Image Size*). Shortcut option: you can use classes from the [TensorFlow Layers](https://www.tensorflow.org/api_docs/python/tf/layers) or [TensorFlow Layers (contrib)](https://www.tensorflow.org/api_guides/python/contrib.layers) packages for this layer. For more of a challenge, only use other TensorFlow packages."
   ]
  },
  {
   "cell_type": "code",
   "execution_count": 17,
   "metadata": {
    "collapsed": false
   },
   "outputs": [
    {
     "name": "stdout",
     "output_type": "stream",
     "text": [
      "Tests Passed\n"
     ]
    }
   ],
   "source": [
    "def flatten(x_tensor):\n",
    "    \"\"\"\n",
    "    Flatten x_tensor to (Batch Size, Flattened Image Size)\n",
    "    : x_tensor: A tensor of size (Batch Size, ...), where ... are the image dimensions.\n",
    "    : return: A tensor of size (Batch Size, Flattened Image Size).\n",
    "    \"\"\"\n",
    "    # TODO: Implement Function\n",
    "    flattened_size = x_tensor.shape[1] * x_tensor.shape[2] * x_tensor.shape[3]\n",
    "    return tf.reshape(x_tensor, [-1, flattened_size.value])\n",
    "\n",
    "\n",
    "\"\"\"\n",
    "DON'T MODIFY ANYTHING IN THIS CELL THAT IS BELOW THIS LINE\n",
    "\"\"\"\n",
    "tests.test_flatten(flatten)"
   ]
  },
  {
   "cell_type": "markdown",
   "metadata": {},
   "source": [
    "### Fully-Connected Layer\n",
    "Implement the `fully_conn` function to apply a fully connected layer to `x_tensor` with the shape (*Batch Size*, *num_outputs*). Shortcut option: you can use classes from the [TensorFlow Layers](https://www.tensorflow.org/api_docs/python/tf/layers) or [TensorFlow Layers (contrib)](https://www.tensorflow.org/api_guides/python/contrib.layers) packages for this layer. For more of a challenge, only use other TensorFlow packages."
   ]
  },
  {
   "cell_type": "code",
   "execution_count": 18,
   "metadata": {
    "collapsed": false
   },
   "outputs": [
    {
     "name": "stdout",
     "output_type": "stream",
     "text": [
      "Tests Passed\n"
     ]
    }
   ],
   "source": [
    "def fully_conn(x_tensor, num_outputs):\n",
    "    \"\"\"\n",
    "    Apply a fully connected layer to x_tensor using weight and bias\n",
    "    : x_tensor: A 2-D tensor where the first dimension is batch size.\n",
    "    : num_outputs: The number of output that the new tensor should be.\n",
    "    : return: A 2-D tensor where the second dimension is num_outputs.\n",
    "    \"\"\"\n",
    "    # TODO: Implement Function\n",
    "    num_features = x_tensor.shape[1].value\n",
    "    weights = tf.Variable(tf.random_normal([num_features, num_outputs], stddev=0.1))\n",
    "    biases = tf.Variable(tf.zeros([num_outputs]))\n",
    "    fc = tf.add(tf.matmul(x_tensor, weights), biases)\n",
    "    fc = tf.nn.relu(fc)\n",
    "    return fc\n",
    "\n",
    "\n",
    "\"\"\"\n",
    "DON'T MODIFY ANYTHING IN THIS CELL THAT IS BELOW THIS LINE\n",
    "\"\"\"\n",
    "tests.test_fully_conn(fully_conn)"
   ]
  },
  {
   "cell_type": "markdown",
   "metadata": {},
   "source": [
    "### Output Layer\n",
    "Implement the `output` function to apply a fully connected layer to `x_tensor` with the shape (*Batch Size*, *num_outputs*). Shortcut option: you can use classes from the [TensorFlow Layers](https://www.tensorflow.org/api_docs/python/tf/layers) or [TensorFlow Layers (contrib)](https://www.tensorflow.org/api_guides/python/contrib.layers) packages for this layer. For more of a challenge, only use other TensorFlow packages.\n",
    "\n",
    "**Note:** Activation, softmax, or cross entropy should **not** be applied to this."
   ]
  },
  {
   "cell_type": "code",
   "execution_count": 19,
   "metadata": {
    "collapsed": false
   },
   "outputs": [
    {
     "name": "stdout",
     "output_type": "stream",
     "text": [
      "Tests Passed\n"
     ]
    }
   ],
   "source": [
    "def output(x_tensor, num_outputs):\n",
    "    \"\"\"\n",
    "    Apply a output layer to x_tensor using weight and bias\n",
    "    : x_tensor: A 2-D tensor where the first dimension is batch size.\n",
    "    : num_outputs: The number of output that the new tensor should be.\n",
    "    : return: A 2-D tensor where the second dimension is num_outputs.\n",
    "    \"\"\"\n",
    "    # TODO: Implement Function\n",
    "    num_features = x_tensor.shape[1].value\n",
    "    weights = tf.Variable(tf.random_normal([num_features, num_outputs], stddev=0.1))\n",
    "    biases = tf.Variable(tf.zeros([num_outputs]))\n",
    "    output_layer = tf.add(tf.matmul(x_tensor, weights), biases)\n",
    "    # output_layer = tf.nn.softmax(output_layer)\n",
    "    return output_layer\n",
    "\n",
    "\n",
    "\"\"\"\n",
    "DON'T MODIFY ANYTHING IN THIS CELL THAT IS BELOW THIS LINE\n",
    "\"\"\"\n",
    "tests.test_output(output)"
   ]
  },
  {
   "cell_type": "markdown",
   "metadata": {},
   "source": [
    "### Create Convolutional Model\n",
    "Implement the function `conv_net` to create a convolutional neural network model. The function takes in a batch of images, `x`, and outputs logits.  Use the layers you created above to create this model:\n",
    "\n",
    "* Apply 1, 2, or 3 Convolution and Max Pool layers\n",
    "* Apply a Flatten Layer\n",
    "* Apply 1, 2, or 3 Fully Connected Layers\n",
    "* Apply an Output Layer\n",
    "* Return the output\n",
    "* Apply [TensorFlow's Dropout](https://www.tensorflow.org/api_docs/python/tf/nn/dropout) to one or more layers in the model using `keep_prob`. "
   ]
  },
  {
   "cell_type": "code",
   "execution_count": 20,
   "metadata": {
    "collapsed": false
   },
   "outputs": [
    {
     "name": "stdout",
     "output_type": "stream",
     "text": [
      "Neural Network Built!\n"
     ]
    }
   ],
   "source": [
    "def conv_net(x, keep_prob):\n",
    "    \"\"\"\n",
    "    Create a convolutional neural network model\n",
    "    : x: Placeholder tensor that holds image data.\n",
    "    : keep_prob: Placeholder tensor that hold dropout keep probability.\n",
    "    : return: Tensor that represents logits\n",
    "    \"\"\"\n",
    "    # TODO: Apply 1, 2, or 3 Convolution and Max Pool layers\n",
    "    #    Play around with different number of outputs, kernel size and stride\n",
    "    # Function Definition from Above:\n",
    "    #    conv2d_maxpool(x_tensor, conv_num_outputs, conv_ksize, conv_strides, pool_ksize, pool_strides)\n",
    "    x = conv2d_maxpool(x, 8, (4, 4), (1, 1), (2, 2), (2, 2))\n",
    "    x = conv2d_maxpool(x, 16, (4, 4), (1, 1), (2, 2), (2, 2))\n",
    "    x = conv2d_maxpool(x, 32, (4, 4), (1, 1), (2, 2), (2, 2))    \n",
    "\n",
    "    # TODO: Apply a Flatten Layer\n",
    "    # Function Definition from Above:\n",
    "    #   flatten(x_tensor)\n",
    "    x = flatten(x)\n",
    "\n",
    "    # TODO: Apply 1, 2, or 3 Fully Connected Layers\n",
    "    #    Play around with different number of outputs\n",
    "    # Function Definition from Above:\n",
    "    #   fully_conn(x_tensor, num_outputs)\n",
    "    x = fully_conn(x, 1024)\n",
    "    x = tf.nn.dropout(x, keep_prob=keep_prob)\n",
    "    x = fully_conn(x, 1024)\n",
    "    x = tf.nn.dropout(x, keep_prob=keep_prob)    \n",
    "    \n",
    "    # TODO: Apply an Output Layer\n",
    "    #    Set this to the number of classes\n",
    "    # Function Definition from Above:\n",
    "    #   output(x_tensor, num_outputs)\n",
    "    x = output(x, 10)\n",
    "    \n",
    "    # TODO: return output\n",
    "    return x\n",
    "\n",
    "\n",
    "\"\"\"\n",
    "DON'T MODIFY ANYTHING IN THIS CELL THAT IS BELOW THIS LINE\n",
    "\"\"\"\n",
    "\n",
    "##############################\n",
    "## Build the Neural Network ##\n",
    "##############################\n",
    "\n",
    "# Remove previous weights, bias, inputs, etc..\n",
    "tf.reset_default_graph()\n",
    "\n",
    "# Inputs\n",
    "x = neural_net_image_input((32, 32, 3))\n",
    "y = neural_net_label_input(10)\n",
    "keep_prob = neural_net_keep_prob_input()\n",
    "\n",
    "# Model\n",
    "logits = conv_net(x, keep_prob)\n",
    "\n",
    "# Name logits Tensor, so that is can be loaded from disk after training\n",
    "logits = tf.identity(logits, name='logits')\n",
    "\n",
    "# Loss and Optimizer\n",
    "cost = tf.reduce_mean(tf.nn.softmax_cross_entropy_with_logits(logits=logits, labels=y))\n",
    "optimizer = tf.train.AdamOptimizer().minimize(cost)\n",
    "\n",
    "# Accuracy\n",
    "correct_pred = tf.equal(tf.argmax(logits, 1), tf.argmax(y, 1))\n",
    "accuracy = tf.reduce_mean(tf.cast(correct_pred, tf.float32), name='accuracy')\n",
    "\n",
    "tests.test_conv_net(conv_net)"
   ]
  },
  {
   "cell_type": "markdown",
   "metadata": {},
   "source": [
    "## Train the Neural Network\n",
    "### Single Optimization\n",
    "Implement the function `train_neural_network` to do a single optimization.  The optimization should use `optimizer` to optimize in `session` with a `feed_dict` of the following:\n",
    "* `x` for image input\n",
    "* `y` for labels\n",
    "* `keep_prob` for keep probability for dropout\n",
    "\n",
    "This function will be called for each batch, so `tf.global_variables_initializer()` has already been called.\n",
    "\n",
    "Note: Nothing needs to be returned. This function is only optimizing the neural network."
   ]
  },
  {
   "cell_type": "code",
   "execution_count": 21,
   "metadata": {
    "collapsed": false
   },
   "outputs": [
    {
     "name": "stdout",
     "output_type": "stream",
     "text": [
      "Tests Passed\n"
     ]
    }
   ],
   "source": [
    "def train_neural_network(session, optimizer, keep_probability, feature_batch, label_batch):\n",
    "    \"\"\"\n",
    "    Optimize the session on a batch of images and labels\n",
    "    : session: Current TensorFlow session\n",
    "    : optimizer: TensorFlow optimizer function\n",
    "    : keep_probability: keep probability\n",
    "    : feature_batch: Batch of Numpy image data\n",
    "    : label_batch: Batch of Numpy label data\n",
    "    \"\"\"\n",
    "    # TODO: Implement Function\n",
    "    session.run(optimizer, feed_dict={x:feature_batch, y:label_batch, keep_prob:keep_probability})\n",
    "\n",
    "\n",
    "\"\"\"\n",
    "DON'T MODIFY ANYTHING IN THIS CELL THAT IS BELOW THIS LINE\n",
    "\"\"\"\n",
    "tests.test_train_nn(train_neural_network)"
   ]
  },
  {
   "cell_type": "markdown",
   "metadata": {},
   "source": [
    "### Show Stats\n",
    "Implement the function `print_stats` to print loss and validation accuracy.  Use the global variables `valid_features` and `valid_labels` to calculate validation accuracy.  Use a keep probability of `1.0` to calculate the loss and validation accuracy."
   ]
  },
  {
   "cell_type": "code",
   "execution_count": 22,
   "metadata": {
    "collapsed": false
   },
   "outputs": [],
   "source": [
    "def print_stats(session, feature_batch, label_batch, cost, accuracy):\n",
    "    \"\"\"\n",
    "    Print information about loss and validation accuracy\n",
    "    : session: Current TensorFlow session\n",
    "    : feature_batch: Batch of Numpy image data\n",
    "    : label_batch: Batch of Numpy label data\n",
    "    : cost: TensorFlow cost function\n",
    "    : accuracy: TensorFlow accuracy function\n",
    "    \"\"\"\n",
    "    # TODO: Implement Function\n",
    "    loss = session.run(cost, feed_dict={x:feature_batch, \n",
    "                                        y:label_batch,\n",
    "                                        keep_prob:1.0}) \n",
    "    acc = session.run(accuracy, \n",
    "                feed_dict={x:valid_features, \n",
    "                           y:valid_labels, \n",
    "                           keep_prob:1.0})\n",
    "    print('Loss={0} ValidationAccuracy={1}'.format(loss, acc))"
   ]
  },
  {
   "cell_type": "markdown",
   "metadata": {},
   "source": [
    "### Hyperparameters\n",
    "Tune the following parameters:\n",
    "* Set `epochs` to the number of iterations until the network stops learning or start overfitting\n",
    "* Set `batch_size` to the highest number that your machine has memory for.  Most people set them to common sizes of memory:\n",
    " * 64\n",
    " * 128\n",
    " * 256\n",
    " * ...\n",
    "* Set `keep_probability` to the probability of keeping a node using dropout"
   ]
  },
  {
   "cell_type": "code",
   "execution_count": 23,
   "metadata": {
    "collapsed": true
   },
   "outputs": [],
   "source": [
    "# TODO: Tune Parameters\n",
    "epochs = 25\n",
    "batch_size = 1028\n",
    "keep_probability = 0.9"
   ]
  },
  {
   "cell_type": "markdown",
   "metadata": {},
   "source": [
    "### Train on a Single CIFAR-10 Batch\n",
    "Instead of training the neural network on all the CIFAR-10 batches of data, let's use a single batch. This should save time while you iterate on the model to get a better accuracy.  Once the final validation accuracy is 50% or greater, run the model on all the data in the next section."
   ]
  },
  {
   "cell_type": "code",
   "execution_count": 24,
   "metadata": {
    "collapsed": false
   },
   "outputs": [
    {
     "name": "stdout",
     "output_type": "stream",
     "text": [
      "Checking the Training on a Single Batch...\n",
      "Epoch  1, CIFAR-10 Batch 1:  Loss=2.4574620723724365 ValidationAccuracy=0.16040000319480896\n",
      "Epoch  2, CIFAR-10 Batch 1:  Loss=2.1678972244262695 ValidationAccuracy=0.21080000698566437\n",
      "Epoch  3, CIFAR-10 Batch 1:  Loss=2.0009753704071045 ValidationAccuracy=0.28619998693466187\n",
      "Epoch  4, CIFAR-10 Batch 1:  Loss=1.8471671342849731 ValidationAccuracy=0.3386000096797943\n",
      "Epoch  5, CIFAR-10 Batch 1:  Loss=1.7367475032806396 ValidationAccuracy=0.37139999866485596\n",
      "Epoch  6, CIFAR-10 Batch 1:  Loss=1.6093165874481201 ValidationAccuracy=0.412200003862381\n",
      "Epoch  7, CIFAR-10 Batch 1:  Loss=1.5073492527008057 ValidationAccuracy=0.42980000376701355\n",
      "Epoch  8, CIFAR-10 Batch 1:  Loss=1.409442663192749 ValidationAccuracy=0.448199987411499\n",
      "Epoch  9, CIFAR-10 Batch 1:  Loss=1.33842134475708 ValidationAccuracy=0.45320001244544983\n",
      "Epoch 10, CIFAR-10 Batch 1:  Loss=1.2748900651931763 ValidationAccuracy=0.4636000096797943\n",
      "Epoch 11, CIFAR-10 Batch 1:  Loss=1.2040126323699951 ValidationAccuracy=0.4717999994754791\n",
      "Epoch 12, CIFAR-10 Batch 1:  Loss=1.1169764995574951 ValidationAccuracy=0.48159998655319214\n",
      "Epoch 13, CIFAR-10 Batch 1:  Loss=1.0413916110992432 ValidationAccuracy=0.4896000027656555\n",
      "Epoch 14, CIFAR-10 Batch 1:  Loss=0.9750791788101196 ValidationAccuracy=0.49540001153945923\n",
      "Epoch 15, CIFAR-10 Batch 1:  Loss=0.9141906499862671 ValidationAccuracy=0.4968000054359436\n",
      "Epoch 16, CIFAR-10 Batch 1:  Loss=0.849794864654541 ValidationAccuracy=0.49880000948905945\n",
      "Epoch 17, CIFAR-10 Batch 1:  Loss=0.7836446762084961 ValidationAccuracy=0.49939998984336853\n",
      "Epoch 18, CIFAR-10 Batch 1:  Loss=0.7211363315582275 ValidationAccuracy=0.4986000061035156\n",
      "Epoch 19, CIFAR-10 Batch 1:  Loss=0.684102475643158 ValidationAccuracy=0.49779999256134033\n",
      "Epoch 20, CIFAR-10 Batch 1:  Loss=0.6698051691055298 ValidationAccuracy=0.49079999327659607\n",
      "Epoch 21, CIFAR-10 Batch 1:  Loss=0.607629656791687 ValidationAccuracy=0.49900001287460327\n",
      "Epoch 22, CIFAR-10 Batch 1:  Loss=0.5549418926239014 ValidationAccuracy=0.5126000046730042\n",
      "Epoch 23, CIFAR-10 Batch 1:  Loss=0.49750664830207825 ValidationAccuracy=0.5054000020027161\n",
      "Epoch 24, CIFAR-10 Batch 1:  Loss=0.43879809975624084 ValidationAccuracy=0.5126000046730042\n",
      "Epoch 25, CIFAR-10 Batch 1:  Loss=0.4080698788166046 ValidationAccuracy=0.5098000168800354\n"
     ]
    }
   ],
   "source": [
    "\"\"\"\n",
    "DON'T MODIFY ANYTHING IN THIS CELL\n",
    "\"\"\"\n",
    "print('Checking the Training on a Single Batch...')\n",
    "with tf.Session() as sess:\n",
    "    # Initializing the variables\n",
    "    sess.run(tf.global_variables_initializer())\n",
    "    \n",
    "    # Training cycle\n",
    "    for epoch in range(epochs):\n",
    "        batch_i = 1\n",
    "        for batch_features, batch_labels in helper.load_preprocess_training_batch(batch_i, batch_size):\n",
    "            train_neural_network(sess, optimizer, keep_probability, batch_features, batch_labels)\n",
    "        print('Epoch {:>2}, CIFAR-10 Batch {}:  '.format(epoch + 1, batch_i), end='')\n",
    "        print_stats(sess, batch_features, batch_labels, cost, accuracy)"
   ]
  },
  {
   "cell_type": "markdown",
   "metadata": {},
   "source": [
    "### Fully Train the Model\n",
    "Now that you got a good accuracy with a single CIFAR-10 batch, try it with all five batches."
   ]
  },
  {
   "cell_type": "code",
   "execution_count": 25,
   "metadata": {
    "collapsed": false
   },
   "outputs": [
    {
     "name": "stdout",
     "output_type": "stream",
     "text": [
      "Training...\n",
      "Epoch  1, CIFAR-10 Batch 1:  Loss=2.3321750164031982 ValidationAccuracy=0.12600000202655792\n",
      "Epoch  1, CIFAR-10 Batch 2:  Loss=2.128922700881958 ValidationAccuracy=0.2508000135421753\n",
      "Epoch  1, CIFAR-10 Batch 3:  Loss=1.9709296226501465 ValidationAccuracy=0.2833999991416931\n",
      "Epoch  1, CIFAR-10 Batch 4:  Loss=1.8627758026123047 ValidationAccuracy=0.329800009727478\n",
      "Epoch  1, CIFAR-10 Batch 5:  Loss=1.7397397756576538 ValidationAccuracy=0.37700000405311584\n",
      "Epoch  2, CIFAR-10 Batch 1:  Loss=1.6433838605880737 ValidationAccuracy=0.4106000065803528\n",
      "Epoch  2, CIFAR-10 Batch 2:  Loss=1.57610285282135 ValidationAccuracy=0.43140000104904175\n",
      "Epoch  2, CIFAR-10 Batch 3:  Loss=1.4667637348175049 ValidationAccuracy=0.438400000333786\n",
      "Epoch  2, CIFAR-10 Batch 4:  Loss=1.4658091068267822 ValidationAccuracy=0.4528000056743622\n",
      "Epoch  2, CIFAR-10 Batch 5:  Loss=1.4304293394088745 ValidationAccuracy=0.4625999927520752\n",
      "Epoch  3, CIFAR-10 Batch 1:  Loss=1.3643862009048462 ValidationAccuracy=0.4950000047683716\n",
      "Epoch  3, CIFAR-10 Batch 2:  Loss=1.3578283786773682 ValidationAccuracy=0.4984000027179718\n",
      "Epoch  3, CIFAR-10 Batch 3:  Loss=1.2882002592086792 ValidationAccuracy=0.503000020980835\n",
      "Epoch  3, CIFAR-10 Batch 4:  Loss=1.283596396446228 ValidationAccuracy=0.510200023651123\n",
      "Epoch  3, CIFAR-10 Batch 5:  Loss=1.2558289766311646 ValidationAccuracy=0.5123999714851379\n",
      "Epoch  4, CIFAR-10 Batch 1:  Loss=1.2246060371398926 ValidationAccuracy=0.527400016784668\n",
      "Epoch  4, CIFAR-10 Batch 2:  Loss=1.249647855758667 ValidationAccuracy=0.5281999707221985\n",
      "Epoch  4, CIFAR-10 Batch 3:  Loss=1.189125895500183 ValidationAccuracy=0.5339999794960022\n",
      "Epoch  4, CIFAR-10 Batch 4:  Loss=1.1681263446807861 ValidationAccuracy=0.5396000146865845\n",
      "Epoch  4, CIFAR-10 Batch 5:  Loss=1.13710355758667 ValidationAccuracy=0.5429999828338623\n",
      "Epoch  5, CIFAR-10 Batch 1:  Loss=1.1288241147994995 ValidationAccuracy=0.5509999990463257\n",
      "Epoch  5, CIFAR-10 Batch 2:  Loss=1.1525444984436035 ValidationAccuracy=0.5541999936103821\n",
      "Epoch  5, CIFAR-10 Batch 3:  Loss=1.0896527767181396 ValidationAccuracy=0.5508000254631042\n",
      "Epoch  5, CIFAR-10 Batch 4:  Loss=1.068669080734253 ValidationAccuracy=0.5551999807357788\n",
      "Epoch  5, CIFAR-10 Batch 5:  Loss=1.047389268875122 ValidationAccuracy=0.5613999962806702\n",
      "Epoch  6, CIFAR-10 Batch 1:  Loss=1.0433634519577026 ValidationAccuracy=0.5608000159263611\n",
      "Epoch  6, CIFAR-10 Batch 2:  Loss=1.0698693990707397 ValidationAccuracy=0.5577999949455261\n",
      "Epoch  6, CIFAR-10 Batch 3:  Loss=1.0157407522201538 ValidationAccuracy=0.5645999908447266\n",
      "Epoch  6, CIFAR-10 Batch 4:  Loss=1.0004154443740845 ValidationAccuracy=0.5601999759674072\n",
      "Epoch  6, CIFAR-10 Batch 5:  Loss=0.9663609862327576 ValidationAccuracy=0.574999988079071\n",
      "Epoch  7, CIFAR-10 Batch 1:  Loss=0.987626850605011 ValidationAccuracy=0.5636000037193298\n",
      "Epoch  7, CIFAR-10 Batch 2:  Loss=0.9847308993339539 ValidationAccuracy=0.574999988079071\n",
      "Epoch  7, CIFAR-10 Batch 3:  Loss=0.9395261406898499 ValidationAccuracy=0.576200008392334\n",
      "Epoch  7, CIFAR-10 Batch 4:  Loss=0.9176022410392761 ValidationAccuracy=0.5702000260353088\n",
      "Epoch  7, CIFAR-10 Batch 5:  Loss=0.8997704386711121 ValidationAccuracy=0.5849999785423279\n",
      "Epoch  8, CIFAR-10 Batch 1:  Loss=0.9167089462280273 ValidationAccuracy=0.5774000287055969\n",
      "Epoch  8, CIFAR-10 Batch 2:  Loss=0.9084356427192688 ValidationAccuracy=0.5870000123977661\n",
      "Epoch  8, CIFAR-10 Batch 3:  Loss=0.8837677240371704 ValidationAccuracy=0.5807999968528748\n",
      "Epoch  8, CIFAR-10 Batch 4:  Loss=0.8541967868804932 ValidationAccuracy=0.5723999738693237\n",
      "Epoch  8, CIFAR-10 Batch 5:  Loss=0.8324249982833862 ValidationAccuracy=0.5852000117301941\n",
      "Epoch  9, CIFAR-10 Batch 1:  Loss=0.8663451075553894 ValidationAccuracy=0.5857999920845032\n",
      "Epoch  9, CIFAR-10 Batch 2:  Loss=0.8411180973052979 ValidationAccuracy=0.5914000272750854\n",
      "Epoch  9, CIFAR-10 Batch 3:  Loss=0.8351155519485474 ValidationAccuracy=0.5875999927520752\n",
      "Epoch  9, CIFAR-10 Batch 4:  Loss=0.7956742644309998 ValidationAccuracy=0.5856000185012817\n",
      "Epoch  9, CIFAR-10 Batch 5:  Loss=0.7780498266220093 ValidationAccuracy=0.5843999981880188\n",
      "Epoch 10, CIFAR-10 Batch 1:  Loss=0.8247617483139038 ValidationAccuracy=0.5839999914169312\n",
      "Epoch 10, CIFAR-10 Batch 2:  Loss=0.8463939428329468 ValidationAccuracy=0.5716000199317932\n",
      "Epoch 10, CIFAR-10 Batch 3:  Loss=0.8062297105789185 ValidationAccuracy=0.5812000036239624\n",
      "Epoch 10, CIFAR-10 Batch 4:  Loss=0.7801120281219482 ValidationAccuracy=0.5809999704360962\n",
      "Epoch 10, CIFAR-10 Batch 5:  Loss=0.7126071453094482 ValidationAccuracy=0.6018000245094299\n",
      "Epoch 11, CIFAR-10 Batch 1:  Loss=0.7720345854759216 ValidationAccuracy=0.5952000021934509\n",
      "Epoch 11, CIFAR-10 Batch 2:  Loss=0.7434176206588745 ValidationAccuracy=0.5935999751091003\n",
      "Epoch 11, CIFAR-10 Batch 3:  Loss=0.7908861041069031 ValidationAccuracy=0.5843999981880188\n",
      "Epoch 11, CIFAR-10 Batch 4:  Loss=0.7121604084968567 ValidationAccuracy=0.5848000049591064\n",
      "Epoch 11, CIFAR-10 Batch 5:  Loss=0.6726017594337463 ValidationAccuracy=0.6110000014305115\n",
      "Epoch 12, CIFAR-10 Batch 1:  Loss=0.7011964321136475 ValidationAccuracy=0.607200026512146\n",
      "Epoch 12, CIFAR-10 Batch 2:  Loss=0.667628824710846 ValidationAccuracy=0.6083999872207642\n",
      "Epoch 12, CIFAR-10 Batch 3:  Loss=0.739260196685791 ValidationAccuracy=0.5861999988555908\n",
      "Epoch 12, CIFAR-10 Batch 4:  Loss=0.6450666189193726 ValidationAccuracy=0.5989999771118164\n",
      "Epoch 12, CIFAR-10 Batch 5:  Loss=0.6111477017402649 ValidationAccuracy=0.6150000095367432\n",
      "Epoch 13, CIFAR-10 Batch 1:  Loss=0.6415063142776489 ValidationAccuracy=0.6100000143051147\n",
      "Epoch 13, CIFAR-10 Batch 2:  Loss=0.6047617793083191 ValidationAccuracy=0.6155999898910522\n",
      "Epoch 13, CIFAR-10 Batch 3:  Loss=0.6734026670455933 ValidationAccuracy=0.5907999873161316\n",
      "Epoch 13, CIFAR-10 Batch 4:  Loss=0.5776904225349426 ValidationAccuracy=0.6043999791145325\n",
      "Epoch 13, CIFAR-10 Batch 5:  Loss=0.5669810175895691 ValidationAccuracy=0.6128000020980835\n",
      "Epoch 14, CIFAR-10 Batch 1:  Loss=0.5869411826133728 ValidationAccuracy=0.6079999804496765\n",
      "Epoch 14, CIFAR-10 Batch 2:  Loss=0.5616686940193176 ValidationAccuracy=0.6114000082015991\n",
      "Epoch 14, CIFAR-10 Batch 3:  Loss=0.6015741229057312 ValidationAccuracy=0.6061999797821045\n",
      "Epoch 14, CIFAR-10 Batch 4:  Loss=0.5352861881256104 ValidationAccuracy=0.6064000129699707\n",
      "Epoch 14, CIFAR-10 Batch 5:  Loss=0.5428001880645752 ValidationAccuracy=0.6101999878883362\n",
      "Epoch 15, CIFAR-10 Batch 1:  Loss=0.5543245077133179 ValidationAccuracy=0.602400004863739\n",
      "Epoch 15, CIFAR-10 Batch 2:  Loss=0.5451186895370483 ValidationAccuracy=0.6047999858856201\n",
      "Epoch 15, CIFAR-10 Batch 3:  Loss=0.5739396810531616 ValidationAccuracy=0.6119999885559082\n",
      "Epoch 15, CIFAR-10 Batch 4:  Loss=0.521401047706604 ValidationAccuracy=0.6101999878883362\n",
      "Epoch 15, CIFAR-10 Batch 5:  Loss=0.4848894774913788 ValidationAccuracy=0.6158000230789185\n",
      "Epoch 16, CIFAR-10 Batch 1:  Loss=0.5211005210876465 ValidationAccuracy=0.6032000184059143\n",
      "Epoch 16, CIFAR-10 Batch 2:  Loss=0.5175886750221252 ValidationAccuracy=0.6033999919891357\n",
      "Epoch 16, CIFAR-10 Batch 3:  Loss=0.531128466129303 ValidationAccuracy=0.61080002784729\n",
      "Epoch 16, CIFAR-10 Batch 4:  Loss=0.5078192353248596 ValidationAccuracy=0.6064000129699707\n",
      "Epoch 16, CIFAR-10 Batch 5:  Loss=0.480346143245697 ValidationAccuracy=0.6082000136375427\n",
      "Epoch 17, CIFAR-10 Batch 1:  Loss=0.500093936920166 ValidationAccuracy=0.6104000210762024\n",
      "Epoch 17, CIFAR-10 Batch 2:  Loss=0.4873209595680237 ValidationAccuracy=0.6043999791145325\n",
      "Epoch 17, CIFAR-10 Batch 3:  Loss=0.5302466154098511 ValidationAccuracy=0.6083999872207642\n",
      "Epoch 17, CIFAR-10 Batch 4:  Loss=0.45953369140625 ValidationAccuracy=0.607200026512146\n",
      "Epoch 17, CIFAR-10 Batch 5:  Loss=0.4289935529232025 ValidationAccuracy=0.6123999953269958\n",
      "Epoch 18, CIFAR-10 Batch 1:  Loss=0.4389399588108063 ValidationAccuracy=0.6141999959945679\n",
      "Epoch 18, CIFAR-10 Batch 2:  Loss=0.44082319736480713 ValidationAccuracy=0.6154000163078308\n",
      "Epoch 18, CIFAR-10 Batch 3:  Loss=0.5138570070266724 ValidationAccuracy=0.6029999852180481\n",
      "Epoch 18, CIFAR-10 Batch 4:  Loss=0.44632068276405334 ValidationAccuracy=0.59579998254776\n",
      "Epoch 18, CIFAR-10 Batch 5:  Loss=0.39579787850379944 ValidationAccuracy=0.6200000047683716\n",
      "Epoch 19, CIFAR-10 Batch 1:  Loss=0.42252692580223083 ValidationAccuracy=0.6105999946594238\n",
      "Epoch 19, CIFAR-10 Batch 2:  Loss=0.4360557496547699 ValidationAccuracy=0.6111999750137329\n",
      "Epoch 19, CIFAR-10 Batch 3:  Loss=0.49609020352363586 ValidationAccuracy=0.6000000238418579\n",
      "Epoch 19, CIFAR-10 Batch 4:  Loss=0.41314181685447693 ValidationAccuracy=0.6000000238418579\n",
      "Epoch 19, CIFAR-10 Batch 5:  Loss=0.36657047271728516 ValidationAccuracy=0.6105999946594238\n",
      "Epoch 20, CIFAR-10 Batch 1:  Loss=0.39240413904190063 ValidationAccuracy=0.6151999831199646\n",
      "Epoch 20, CIFAR-10 Batch 2:  Loss=0.43093588948249817 ValidationAccuracy=0.5947999954223633\n",
      "Epoch 20, CIFAR-10 Batch 3:  Loss=0.4304969906806946 ValidationAccuracy=0.604200005531311\n",
      "Epoch 20, CIFAR-10 Batch 4:  Loss=0.4064168632030487 ValidationAccuracy=0.6043999791145325\n",
      "Epoch 20, CIFAR-10 Batch 5:  Loss=0.3975362777709961 ValidationAccuracy=0.599399983882904\n",
      "Epoch 21, CIFAR-10 Batch 1:  Loss=0.3927779495716095 ValidationAccuracy=0.6191999912261963\n",
      "Epoch 21, CIFAR-10 Batch 2:  Loss=0.3746052384376526 ValidationAccuracy=0.5982000231742859\n",
      "Epoch 21, CIFAR-10 Batch 3:  Loss=0.3989274203777313 ValidationAccuracy=0.6083999872207642\n",
      "Epoch 21, CIFAR-10 Batch 4:  Loss=0.35892951488494873 ValidationAccuracy=0.6082000136375427\n",
      "Epoch 21, CIFAR-10 Batch 5:  Loss=0.35220521688461304 ValidationAccuracy=0.6025999784469604\n",
      "Epoch 22, CIFAR-10 Batch 1:  Loss=0.3428592383861542 ValidationAccuracy=0.6110000014305115\n",
      "Epoch 22, CIFAR-10 Batch 2:  Loss=0.30185073614120483 ValidationAccuracy=0.6110000014305115\n",
      "Epoch 22, CIFAR-10 Batch 3:  Loss=0.36984047293663025 ValidationAccuracy=0.6155999898910522\n",
      "Epoch 22, CIFAR-10 Batch 4:  Loss=0.3473239839076996 ValidationAccuracy=0.605400025844574\n",
      "Epoch 22, CIFAR-10 Batch 5:  Loss=0.33456701040267944 ValidationAccuracy=0.6122000217437744\n",
      "Epoch 23, CIFAR-10 Batch 1:  Loss=0.3126348853111267 ValidationAccuracy=0.6105999946594238\n",
      "Epoch 23, CIFAR-10 Batch 2:  Loss=0.28804028034210205 ValidationAccuracy=0.6118000149726868\n",
      "Epoch 23, CIFAR-10 Batch 3:  Loss=0.3208219110965729 ValidationAccuracy=0.6208000183105469\n",
      "Epoch 23, CIFAR-10 Batch 4:  Loss=0.34333348274230957 ValidationAccuracy=0.602400004863739\n",
      "Epoch 23, CIFAR-10 Batch 5:  Loss=0.31966882944107056 ValidationAccuracy=0.6064000129699707\n",
      "Epoch 24, CIFAR-10 Batch 1:  Loss=0.28880706429481506 ValidationAccuracy=0.6115999817848206\n",
      "Epoch 24, CIFAR-10 Batch 2:  Loss=0.28061601519584656 ValidationAccuracy=0.6050000190734863\n",
      "Epoch 24, CIFAR-10 Batch 3:  Loss=0.30929112434387207 ValidationAccuracy=0.6164000034332275\n",
      "Epoch 24, CIFAR-10 Batch 4:  Loss=0.28320661187171936 ValidationAccuracy=0.6187999844551086\n",
      "Epoch 24, CIFAR-10 Batch 5:  Loss=0.25570815801620483 ValidationAccuracy=0.6075999736785889\n",
      "Epoch 25, CIFAR-10 Batch 1:  Loss=0.29985252022743225 ValidationAccuracy=0.6029999852180481\n",
      "Epoch 25, CIFAR-10 Batch 2:  Loss=0.2525518834590912 ValidationAccuracy=0.618399977684021\n",
      "Epoch 25, CIFAR-10 Batch 3:  Loss=0.28646332025527954 ValidationAccuracy=0.6065999865531921\n",
      "Epoch 25, CIFAR-10 Batch 4:  Loss=0.260114461183548 ValidationAccuracy=0.6069999933242798\n",
      "Epoch 25, CIFAR-10 Batch 5:  Loss=0.2083856463432312 ValidationAccuracy=0.6164000034332275\n"
     ]
    }
   ],
   "source": [
    "\"\"\"\n",
    "DON'T MODIFY ANYTHING IN THIS CELL\n",
    "\"\"\"\n",
    "save_model_path = './image_classification'\n",
    "\n",
    "print('Training...')\n",
    "with tf.Session() as sess:\n",
    "    # Initializing the variables\n",
    "    sess.run(tf.global_variables_initializer())\n",
    "    \n",
    "    # Training cycle\n",
    "    for epoch in range(epochs):\n",
    "        # Loop over all batches\n",
    "        n_batches = 5\n",
    "        for batch_i in range(1, n_batches + 1):\n",
    "            for batch_features, batch_labels in helper.load_preprocess_training_batch(batch_i, batch_size):\n",
    "                train_neural_network(sess, optimizer, keep_probability, batch_features, batch_labels)\n",
    "            print('Epoch {:>2}, CIFAR-10 Batch {}:  '.format(epoch + 1, batch_i), end='')\n",
    "            print_stats(sess, batch_features, batch_labels, cost, accuracy)\n",
    "            \n",
    "    # Save Model\n",
    "    saver = tf.train.Saver()\n",
    "    save_path = saver.save(sess, save_model_path)"
   ]
  },
  {
   "cell_type": "markdown",
   "metadata": {},
   "source": [
    "# Checkpoint\n",
    "The model has been saved to disk.\n",
    "## Test Model\n",
    "Test your model against the test dataset.  This will be your final accuracy. You should have an accuracy greater than 50%. If you don't, keep tweaking the model architecture and parameters."
   ]
  },
  {
   "cell_type": "code",
   "execution_count": 26,
   "metadata": {
    "collapsed": false
   },
   "outputs": [
    {
     "name": "stdout",
     "output_type": "stream",
     "text": [
      "INFO:tensorflow:Restoring parameters from ./image_classification\n",
      "Testing Accuracy: 0.6112543940544128\n",
      "\n"
     ]
    },
    {
     "data": {
      "image/png": "[encoded data removed]",
      "text/plain": [
       "<matplotlib.figure.Figure at 0x1176e4550>"
      ]
     },
     "metadata": {
      "image/png": {
       "height": 319,
       "width": 355
      }
     },
     "output_type": "display_data"
    }
   ],
   "source": [
    "\"\"\"\n",
    "DON'T MODIFY ANYTHING IN THIS CELL\n",
    "\"\"\"\n",
    "%matplotlib inline\n",
    "%config InlineBackend.figure_format = 'retina'\n",
    "\n",
    "import tensorflow as tf\n",
    "import pickle\n",
    "import helper\n",
    "import random\n",
    "\n",
    "# Set batch size if not already set\n",
    "try:\n",
    "    if batch_size:\n",
    "        pass\n",
    "except NameError:\n",
    "    batch_size = 64\n",
    "\n",
    "save_model_path = './image_classification'\n",
    "n_samples = 4\n",
    "top_n_predictions = 3\n",
    "\n",
    "def test_model():\n",
    "    \"\"\"\n",
    "    Test the saved model against the test dataset\n",
    "    \"\"\"\n",
    "\n",
    "    test_features, test_labels = pickle.load(open('preprocess_test.p', mode='rb'))\n",
    "    loaded_graph = tf.Graph()\n",
    "\n",
    "    with tf.Session(graph=loaded_graph) as sess:\n",
    "        # Load model\n",
    "        loader = tf.train.import_meta_graph(save_model_path + '.meta')\n",
    "        loader.restore(sess, save_model_path)\n",
    "\n",
    "        # Get Tensors from loaded model\n",
    "        loaded_x = loaded_graph.get_tensor_by_name('x:0')\n",
    "        loaded_y = loaded_graph.get_tensor_by_name('y:0')\n",
    "        loaded_keep_prob = loaded_graph.get_tensor_by_name('keep_prob:0')\n",
    "        loaded_logits = loaded_graph.get_tensor_by_name('logits:0')\n",
    "        loaded_acc = loaded_graph.get_tensor_by_name('accuracy:0')\n",
    "        \n",
    "        # Get accuracy in batches for memory limitations\n",
    "        test_batch_acc_total = 0\n",
    "        test_batch_count = 0\n",
    "        \n",
    "        for test_feature_batch, test_label_batch in helper.batch_features_labels(test_features, test_labels, batch_size):\n",
    "            test_batch_acc_total += sess.run(\n",
    "                loaded_acc,\n",
    "                feed_dict={loaded_x: test_feature_batch, loaded_y: test_label_batch, loaded_keep_prob: 1.0})\n",
    "            test_batch_count += 1\n",
    "\n",
    "        print('Testing Accuracy: {}\\n'.format(test_batch_acc_total/test_batch_count))\n",
    "\n",
    "        # Print Random Samples\n",
    "        random_test_features, random_test_labels = tuple(zip(*random.sample(list(zip(test_features, test_labels)), n_samples)))\n",
    "        random_test_predictions = sess.run(\n",
    "            tf.nn.top_k(tf.nn.softmax(loaded_logits), top_n_predictions),\n",
    "            feed_dict={loaded_x: random_test_features, loaded_y: random_test_labels, loaded_keep_prob: 1.0})\n",
    "        helper.display_image_predictions(random_test_features, random_test_labels, random_test_predictions)\n",
    "\n",
    "\n",
    "test_model()"
   ]
  },
  {
   "cell_type": "markdown",
   "metadata": {},
   "source": [
    "## Why 50-80% Accuracy?\n",
    "You might be wondering why you can't get an accuracy any higher. First things first, 50% isn't bad for a simple CNN.  Pure guessing would get you 10% accuracy. However, you might notice people are getting scores [well above 80%](http://rodrigob.github.io/are_we_there_yet/build/classification_datasets_results.html#43494641522d3130).  That's because we haven't taught you all there is to know about neural networks. We still need to cover a few more techniques.\n",
    "## Submitting This Project\n",
    "When submitting this project, make sure to run all the cells before saving the notebook.  Save the notebook file as \"dlnd_image_classification.ipynb\" and save it as a HTML file under \"File\" -> \"Download as\".  Include the \"helper.py\" and \"problem_unittests.py\" files in your submission."
   ]
  }
 ],
 "metadata": {
  "kernelspec": {
   "display_name": "Python 3",
   "language": "python",
   "name": "python3"
  },
  "language_info": {
   "codemirror_mode": {
    "name": "ipython",
    "version": 3
   },
   "file_extension": ".py",
   "mimetype": "text/x-python",
   "name": "python",
   "nbconvert_exporter": "python",
   "pygments_lexer": "ipython3",
   "version": "3.6.1"
  }
 },
 "nbformat": 4,
 "nbformat_minor": 0
}
